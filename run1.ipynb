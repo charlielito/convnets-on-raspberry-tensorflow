{
 "cells": [
  {
   "cell_type": "markdown",
   "metadata": {},
   "source": [
    "## Imports"
   ]
  },
  {
   "cell_type": "code",
   "execution_count": 1,
   "metadata": {
    "collapsed": true
   },
   "outputs": [],
   "source": [
    "import os, random, PIL, time\n",
    "import matplotlib.pyplot as plt\n",
    "import pandas as pd\n",
    "import numpy as np\n",
    "from dataget import data # <== dataget\n",
    "import tensorflow as tf\n",
    "from name import network_name, model_path\n",
    "from tfinterface.supervised import SupervisedInputs\n",
    "from PIL import Image\n",
    "from model import Model\n",
    "\n",
    "%matplotlib inline"
   ]
  },
  {
   "cell_type": "markdown",
   "metadata": {},
   "source": [
    "## Get Dataset\n",
    "Using the function `data` from `dataget` we call the dataset `german-traffic-signs` and execute the method `get` to get the data object in case we dont have the data yet."
   ]
  },
  {
   "cell_type": "code",
   "execution_count": 2,
   "metadata": {
    "collapsed": true
   },
   "outputs": [],
   "source": [
    "dataset = data(\"german-traffic-signs\").get()"
   ]
  },
  {
   "cell_type": "markdown",
   "metadata": {},
   "source": [
    "### Create ConvNet and Load model"
   ]
  },
  {
   "cell_type": "code",
   "execution_count": 4,
   "metadata": {},
   "outputs": [
    {
     "name": "stdout",
     "output_type": "stream",
     "text": [
      "INFO:tensorflow:Restoring parameters from /home/carlosbd/retoColombIA/convnets-tensorflow-in-raspberry/models/red-peque\n"
     ]
    },
    {
     "data": {
      "text/plain": [
       "<model.Model at 0x7f2c33582b90>"
      ]
     },
     "execution_count": 4,
     "metadata": {},
     "output_type": "execute_result"
    }
   ],
   "source": [
    "# seed: repetible results\n",
    "seed = 31\n",
    "np.random.seed(seed=seed)\n",
    "random.seed(seed)\n",
    "\n",
    "graph = tf.Graph()\n",
    "sess = tf.Session(graph=graph)\n",
    "\n",
    "size = 32\n",
    "\n",
    "# inputs\n",
    "inputs = SupervisedInputs(\n",
    "    name = network_name + \"_inputs\",\n",
    "    graph = graph,\n",
    "    sess = sess,\n",
    "    # tensors\n",
    "    features = dict(shape = (None, size, size, 3)),\n",
    "    labels = dict(shape = (None,), dtype = tf.uint8)\n",
    ")\n",
    "\n",
    "# create model template\n",
    "template = Model(\n",
    "    n_classes = 43,\n",
    "    name = network_name,\n",
    "    model_path = model_path,\n",
    "    graph = graph,\n",
    "    sess = sess,\n",
    "    seed = seed,\n",
    ")\n",
    "\n",
    "#model\n",
    "inputs = inputs()\n",
    "model = template(inputs)\n",
    "\n",
    "#load model\n",
    "model.initialize(restore=True)"
   ]
  },
  {
   "cell_type": "markdown",
   "metadata": {},
   "source": [
    "### Load Image\n",
    "Lets load the test image"
   ]
  },
  {
   "cell_type": "code",
   "execution_count": 5,
   "metadata": {},
   "outputs": [
    {
     "data": {
      "image/png": "[encoded data removed]",
      "text/plain": [
       "<matplotlib.figure.Figure at 0x7f2c06ef4950>"
      ]
     },
     "metadata": {},
     "output_type": "display_data"
    }
   ],
   "source": [
    "im = Image.open(\"test/traffic7.jpg\")\n",
    "size = 32\n",
    "if ( im.size[0] != size or im.size[1] != size): #reshape it\n",
    "    im = im.resize((size, size), PIL.Image.ANTIALIAS)\n",
    "\n",
    "features_test = np.array(im)\n",
    "plt.imshow(features_test)\n",
    "plt.show()"
   ]
  },
  {
   "cell_type": "markdown",
   "metadata": {},
   "source": [
    "### Make Inference and compare to a known image"
   ]
  },
  {
   "cell_type": "code",
   "execution_count": 6,
   "metadata": {
    "scrolled": true
   },
   "outputs": [
    {
     "data": {
      "image/png": "[encoded data removed]",
      "text/plain": [
       "<matplotlib.figure.Figure at 0x7f2c06e60390>"
      ]
     },
     "metadata": {},
     "output_type": "display_data"
    }
   ],
   "source": [
    "predictions = model.predict(features = [features_test])\n",
    "predictions = np.argmax(predictions, axis=1)\n",
    "reference_img = dataset.test_set.get_nclass_sample(predictions)\n",
    "\n",
    "f, (ax1, ax2) = plt.subplots(1, 2) #, figsize=(10,10)\n",
    "ax1.imshow(features_test)\n",
    "ax2.imshow(reference_img)\n",
    "\n",
    "f.tight_layout()\n",
    "    \n",
    "plt.show()"
   ]
  },
  {
   "cell_type": "code",
   "execution_count": null,
   "metadata": {
    "collapsed": true
   },
   "outputs": [],
   "source": []
  }
 ],
 "metadata": {
  "kernelspec": {
   "display_name": "Python 2",
   "language": "python",
   "name": "python2"
  },
  "language_info": {
   "codemirror_mode": {
    "name": "ipython",
    "version": 2
   },
   "file_extension": ".py",
   "mimetype": "text/x-python",
   "name": "python",
   "nbconvert_exporter": "python",
   "pygments_lexer": "ipython2",
   "version": "2.7.12+"
  }
 },
 "nbformat": 4,
 "nbformat_minor": 2
}
